{
 "cells": [
  {
   "cell_type": "markdown",
   "metadata": {},
   "source": [
    "## Part I - (Fordgobike Data Exploration )\n",
    "## by Malb\n",
    "\n",
    "## Introduction\n",
    "> This is the exploration of February 2019 user data for fordgobike located in the greater San Francisco Bay Area. Fordgobike is a bikesharing system allowing users to rent bikes based on their needs with the ability to subscribe or take advantage of one time usage. This dataset includes 16 features and 183,412 rows. \n",
    "\n",
    "\n",
    "\n",
    "\n",
    "## Preliminary Wrangling\n"
   ]
  },
  {
   "cell_type": "code",
   "execution_count": 1,
   "metadata": {},
   "outputs": [],
   "source": [
    "# import all packages and set plots to be embedded inline\n",
    "import numpy as np\n",
    "import pandas as pd\n",
    "import matplotlib.pyplot as plt\n",
    "import seaborn as sb\n",
    "from numpy import median\n",
    "import calendar\n",
    "import time\n",
    "import math\n",
    "import datetime\n",
    "import warnings\n",
    "warnings.filterwarnings('ignore')\n",
    "\n",
    "%matplotlib inline\n"
   ]
  },
  {
   "cell_type": "code",
   "execution_count": 23,
   "metadata": {},
   "outputs": [
    {
     "name": "stdout",
     "output_type": "stream",
     "text": [
      "Requirement already satisfied: seaborn==0.11.2 in /opt/conda/lib/python3.6/site-packages (0.11.2)\n",
      "Requirement already satisfied: matplotlib>=2.2 in /opt/conda/lib/python3.6/site-packages (from seaborn==0.11.2) (3.3.4)\n",
      "Requirement already satisfied: numpy>=1.15 in /opt/conda/lib/python3.6/site-packages (from seaborn==0.11.2) (1.19.5)\n",
      "Requirement already satisfied: scipy>=1.0 in /opt/conda/lib/python3.6/site-packages (from seaborn==0.11.2) (1.2.1)\n",
      "Requirement already satisfied: pandas>=0.23 in /opt/conda/lib/python3.6/site-packages (from seaborn==0.11.2) (0.23.3)\n",
      "Requirement already satisfied: kiwisolver>=1.0.1 in /opt/conda/lib/python3.6/site-packages (from matplotlib>=2.2->seaborn==0.11.2) (1.3.1)\n",
      "Requirement already satisfied: pyparsing!=2.0.4,!=2.1.2,!=2.1.6,>=2.0.3 in /opt/conda/lib/python3.6/site-packages (from matplotlib>=2.2->seaborn==0.11.2) (2.2.0)\n",
      "Requirement already satisfied: pillow>=6.2.0 in /opt/conda/lib/python3.6/site-packages (from matplotlib>=2.2->seaborn==0.11.2) (8.4.0)\n",
      "Requirement already satisfied: cycler>=0.10 in /opt/conda/lib/python3.6/site-packages/cycler-0.10.0-py3.6.egg (from matplotlib>=2.2->seaborn==0.11.2) (0.10.0)\n",
      "Requirement already satisfied: python-dateutil>=2.1 in /opt/conda/lib/python3.6/site-packages (from matplotlib>=2.2->seaborn==0.11.2) (2.6.1)\n",
      "Requirement already satisfied: pytz>=2011k in /opt/conda/lib/python3.6/site-packages (from pandas>=0.23->seaborn==0.11.2) (2017.3)\n",
      "Requirement already satisfied: six in /opt/conda/lib/python3.6/site-packages (from cycler>=0.10->matplotlib>=2.2->seaborn==0.11.2) (1.11.0)\n"
     ]
    }
   ],
   "source": [
    "!pip install seaborn==0.11.2"
   ]
  },
  {
   "cell_type": "code",
   "execution_count": 24,
   "metadata": {},
   "outputs": [
    {
     "data": {
      "text/html": [
       "<div>\n",
       "<style scoped>\n",
       "    .dataframe tbody tr th:only-of-type {\n",
       "        vertical-align: middle;\n",
       "    }\n",
       "\n",
       "    .dataframe tbody tr th {\n",
       "        vertical-align: top;\n",
       "    }\n",
       "\n",
       "    .dataframe thead th {\n",
       "        text-align: right;\n",
       "    }\n",
       "</style>\n",
       "<table border=\"1\" class=\"dataframe\">\n",
       "  <thead>\n",
       "    <tr style=\"text-align: right;\">\n",
       "      <th></th>\n",
       "      <th>duration_sec</th>\n",
       "      <th>start_time</th>\n",
       "      <th>end_time</th>\n",
       "      <th>start_station_id</th>\n",
       "      <th>start_station_name</th>\n",
       "      <th>start_station_latitude</th>\n",
       "      <th>start_station_longitude</th>\n",
       "      <th>end_station_id</th>\n",
       "      <th>end_station_name</th>\n",
       "      <th>end_station_latitude</th>\n",
       "      <th>end_station_longitude</th>\n",
       "      <th>bike_id</th>\n",
       "      <th>user_type</th>\n",
       "      <th>member_birth_year</th>\n",
       "      <th>member_gender</th>\n",
       "      <th>bike_share_for_all_trip</th>\n",
       "    </tr>\n",
       "  </thead>\n",
       "  <tbody>\n",
       "    <tr>\n",
       "      <th>0</th>\n",
       "      <td>52185</td>\n",
       "      <td>2019-02-28 17:32:10.1450</td>\n",
       "      <td>2019-03-01 08:01:55.9750</td>\n",
       "      <td>21.0</td>\n",
       "      <td>Montgomery St BART Station (Market St at 2nd St)</td>\n",
       "      <td>37.789625</td>\n",
       "      <td>-122.400811</td>\n",
       "      <td>13.0</td>\n",
       "      <td>Commercial St at Montgomery St</td>\n",
       "      <td>37.794231</td>\n",
       "      <td>-122.402923</td>\n",
       "      <td>4902</td>\n",
       "      <td>Customer</td>\n",
       "      <td>1984.0</td>\n",
       "      <td>Male</td>\n",
       "      <td>No</td>\n",
       "    </tr>\n",
       "    <tr>\n",
       "      <th>1</th>\n",
       "      <td>42521</td>\n",
       "      <td>2019-02-28 18:53:21.7890</td>\n",
       "      <td>2019-03-01 06:42:03.0560</td>\n",
       "      <td>23.0</td>\n",
       "      <td>The Embarcadero at Steuart St</td>\n",
       "      <td>37.791464</td>\n",
       "      <td>-122.391034</td>\n",
       "      <td>81.0</td>\n",
       "      <td>Berry St at 4th St</td>\n",
       "      <td>37.775880</td>\n",
       "      <td>-122.393170</td>\n",
       "      <td>2535</td>\n",
       "      <td>Customer</td>\n",
       "      <td>NaN</td>\n",
       "      <td>NaN</td>\n",
       "      <td>No</td>\n",
       "    </tr>\n",
       "    <tr>\n",
       "      <th>2</th>\n",
       "      <td>61854</td>\n",
       "      <td>2019-02-28 12:13:13.2180</td>\n",
       "      <td>2019-03-01 05:24:08.1460</td>\n",
       "      <td>86.0</td>\n",
       "      <td>Market St at Dolores St</td>\n",
       "      <td>37.769305</td>\n",
       "      <td>-122.426826</td>\n",
       "      <td>3.0</td>\n",
       "      <td>Powell St BART Station (Market St at 4th St)</td>\n",
       "      <td>37.786375</td>\n",
       "      <td>-122.404904</td>\n",
       "      <td>5905</td>\n",
       "      <td>Customer</td>\n",
       "      <td>1972.0</td>\n",
       "      <td>Male</td>\n",
       "      <td>No</td>\n",
       "    </tr>\n",
       "    <tr>\n",
       "      <th>3</th>\n",
       "      <td>36490</td>\n",
       "      <td>2019-02-28 17:54:26.0100</td>\n",
       "      <td>2019-03-01 04:02:36.8420</td>\n",
       "      <td>375.0</td>\n",
       "      <td>Grove St at Masonic Ave</td>\n",
       "      <td>37.774836</td>\n",
       "      <td>-122.446546</td>\n",
       "      <td>70.0</td>\n",
       "      <td>Central Ave at Fell St</td>\n",
       "      <td>37.773311</td>\n",
       "      <td>-122.444293</td>\n",
       "      <td>6638</td>\n",
       "      <td>Subscriber</td>\n",
       "      <td>1989.0</td>\n",
       "      <td>Other</td>\n",
       "      <td>No</td>\n",
       "    </tr>\n",
       "    <tr>\n",
       "      <th>4</th>\n",
       "      <td>1585</td>\n",
       "      <td>2019-02-28 23:54:18.5490</td>\n",
       "      <td>2019-03-01 00:20:44.0740</td>\n",
       "      <td>7.0</td>\n",
       "      <td>Frank H Ogawa Plaza</td>\n",
       "      <td>37.804562</td>\n",
       "      <td>-122.271738</td>\n",
       "      <td>222.0</td>\n",
       "      <td>10th Ave at E 15th St</td>\n",
       "      <td>37.792714</td>\n",
       "      <td>-122.248780</td>\n",
       "      <td>4898</td>\n",
       "      <td>Subscriber</td>\n",
       "      <td>1974.0</td>\n",
       "      <td>Male</td>\n",
       "      <td>Yes</td>\n",
       "    </tr>\n",
       "  </tbody>\n",
       "</table>\n",
       "</div>"
      ],
      "text/plain": [
       "   duration_sec                start_time                  end_time  \\\n",
       "0         52185  2019-02-28 17:32:10.1450  2019-03-01 08:01:55.9750   \n",
       "1         42521  2019-02-28 18:53:21.7890  2019-03-01 06:42:03.0560   \n",
       "2         61854  2019-02-28 12:13:13.2180  2019-03-01 05:24:08.1460   \n",
       "3         36490  2019-02-28 17:54:26.0100  2019-03-01 04:02:36.8420   \n",
       "4          1585  2019-02-28 23:54:18.5490  2019-03-01 00:20:44.0740   \n",
       "\n",
       "   start_station_id                                start_station_name  \\\n",
       "0              21.0  Montgomery St BART Station (Market St at 2nd St)   \n",
       "1              23.0                     The Embarcadero at Steuart St   \n",
       "2              86.0                           Market St at Dolores St   \n",
       "3             375.0                           Grove St at Masonic Ave   \n",
       "4               7.0                               Frank H Ogawa Plaza   \n",
       "\n",
       "   start_station_latitude  start_station_longitude  end_station_id  \\\n",
       "0               37.789625              -122.400811            13.0   \n",
       "1               37.791464              -122.391034            81.0   \n",
       "2               37.769305              -122.426826             3.0   \n",
       "3               37.774836              -122.446546            70.0   \n",
       "4               37.804562              -122.271738           222.0   \n",
       "\n",
       "                               end_station_name  end_station_latitude  \\\n",
       "0                Commercial St at Montgomery St             37.794231   \n",
       "1                            Berry St at 4th St             37.775880   \n",
       "2  Powell St BART Station (Market St at 4th St)             37.786375   \n",
       "3                        Central Ave at Fell St             37.773311   \n",
       "4                         10th Ave at E 15th St             37.792714   \n",
       "\n",
       "   end_station_longitude  bike_id   user_type  member_birth_year  \\\n",
       "0            -122.402923     4902    Customer             1984.0   \n",
       "1            -122.393170     2535    Customer                NaN   \n",
       "2            -122.404904     5905    Customer             1972.0   \n",
       "3            -122.444293     6638  Subscriber             1989.0   \n",
       "4            -122.248780     4898  Subscriber             1974.0   \n",
       "\n",
       "  member_gender bike_share_for_all_trip  \n",
       "0          Male                      No  \n",
       "1           NaN                      No  \n",
       "2          Male                      No  \n",
       "3         Other                      No  \n",
       "4          Male                     Yes  "
      ]
     },
     "execution_count": 24,
     "metadata": {},
     "output_type": "execute_result"
    }
   ],
   "source": [
    "df = pd.read_csv('201902-fordgobike-tripdata.csv')\n",
    "df.head()"
   ]
  },
  {
   "cell_type": "code",
   "execution_count": 25,
   "metadata": {},
   "outputs": [
    {
     "name": "stdout",
     "output_type": "stream",
     "text": [
      "(183412, 16)\n",
      "duration_sec                 int64\n",
      "start_time                  object\n",
      "end_time                    object\n",
      "start_station_id           float64\n",
      "start_station_name          object\n",
      "start_station_latitude     float64\n",
      "start_station_longitude    float64\n",
      "end_station_id             float64\n",
      "end_station_name            object\n",
      "end_station_latitude       float64\n",
      "end_station_longitude      float64\n",
      "bike_id                      int64\n",
      "user_type                   object\n",
      "member_birth_year          float64\n",
      "member_gender               object\n",
      "bike_share_for_all_trip     object\n",
      "dtype: object\n"
     ]
    }
   ],
   "source": [
    "print(df.shape)\n",
    "print(df.dtypes)"
   ]
  },
  {
   "cell_type": "code",
   "execution_count": 26,
   "metadata": {},
   "outputs": [
    {
     "data": {
      "text/html": [
       "<div>\n",
       "<style scoped>\n",
       "    .dataframe tbody tr th:only-of-type {\n",
       "        vertical-align: middle;\n",
       "    }\n",
       "\n",
       "    .dataframe tbody tr th {\n",
       "        vertical-align: top;\n",
       "    }\n",
       "\n",
       "    .dataframe thead th {\n",
       "        text-align: right;\n",
       "    }\n",
       "</style>\n",
       "<table border=\"1\" class=\"dataframe\">\n",
       "  <thead>\n",
       "    <tr style=\"text-align: right;\">\n",
       "      <th></th>\n",
       "      <th>duration_sec</th>\n",
       "      <th>start_time</th>\n",
       "      <th>end_time</th>\n",
       "      <th>start_station_id</th>\n",
       "      <th>start_station_name</th>\n",
       "      <th>start_station_latitude</th>\n",
       "      <th>start_station_longitude</th>\n",
       "      <th>end_station_id</th>\n",
       "      <th>end_station_name</th>\n",
       "      <th>end_station_latitude</th>\n",
       "      <th>end_station_longitude</th>\n",
       "      <th>bike_id</th>\n",
       "      <th>user_type</th>\n",
       "      <th>member_birth_year</th>\n",
       "      <th>member_gender</th>\n",
       "      <th>bike_share_for_all_trip</th>\n",
       "    </tr>\n",
       "  </thead>\n",
       "  <tbody>\n",
       "    <tr>\n",
       "      <th>183407</th>\n",
       "      <td>480</td>\n",
       "      <td>2019-02-01 00:04:49.7240</td>\n",
       "      <td>2019-02-01 00:12:50.0340</td>\n",
       "      <td>27.0</td>\n",
       "      <td>Beale St at Harrison St</td>\n",
       "      <td>37.788059</td>\n",
       "      <td>-122.391865</td>\n",
       "      <td>324.0</td>\n",
       "      <td>Union Square (Powell St at Post St)</td>\n",
       "      <td>37.788300</td>\n",
       "      <td>-122.408531</td>\n",
       "      <td>4832</td>\n",
       "      <td>Subscriber</td>\n",
       "      <td>1996.0</td>\n",
       "      <td>Male</td>\n",
       "      <td>No</td>\n",
       "    </tr>\n",
       "    <tr>\n",
       "      <th>183408</th>\n",
       "      <td>313</td>\n",
       "      <td>2019-02-01 00:05:34.7440</td>\n",
       "      <td>2019-02-01 00:10:48.5020</td>\n",
       "      <td>21.0</td>\n",
       "      <td>Montgomery St BART Station (Market St at 2nd St)</td>\n",
       "      <td>37.789625</td>\n",
       "      <td>-122.400811</td>\n",
       "      <td>66.0</td>\n",
       "      <td>3rd St at Townsend St</td>\n",
       "      <td>37.778742</td>\n",
       "      <td>-122.392741</td>\n",
       "      <td>4960</td>\n",
       "      <td>Subscriber</td>\n",
       "      <td>1984.0</td>\n",
       "      <td>Male</td>\n",
       "      <td>No</td>\n",
       "    </tr>\n",
       "    <tr>\n",
       "      <th>183409</th>\n",
       "      <td>141</td>\n",
       "      <td>2019-02-01 00:06:05.5490</td>\n",
       "      <td>2019-02-01 00:08:27.2200</td>\n",
       "      <td>278.0</td>\n",
       "      <td>The Alameda at Bush St</td>\n",
       "      <td>37.331932</td>\n",
       "      <td>-121.904888</td>\n",
       "      <td>277.0</td>\n",
       "      <td>Morrison Ave at Julian St</td>\n",
       "      <td>37.333658</td>\n",
       "      <td>-121.908586</td>\n",
       "      <td>3824</td>\n",
       "      <td>Subscriber</td>\n",
       "      <td>1990.0</td>\n",
       "      <td>Male</td>\n",
       "      <td>Yes</td>\n",
       "    </tr>\n",
       "    <tr>\n",
       "      <th>183410</th>\n",
       "      <td>139</td>\n",
       "      <td>2019-02-01 00:05:34.3600</td>\n",
       "      <td>2019-02-01 00:07:54.2870</td>\n",
       "      <td>220.0</td>\n",
       "      <td>San Pablo Ave at MLK Jr Way</td>\n",
       "      <td>37.811351</td>\n",
       "      <td>-122.273422</td>\n",
       "      <td>216.0</td>\n",
       "      <td>San Pablo Ave at 27th St</td>\n",
       "      <td>37.817827</td>\n",
       "      <td>-122.275698</td>\n",
       "      <td>5095</td>\n",
       "      <td>Subscriber</td>\n",
       "      <td>1988.0</td>\n",
       "      <td>Male</td>\n",
       "      <td>No</td>\n",
       "    </tr>\n",
       "    <tr>\n",
       "      <th>183411</th>\n",
       "      <td>271</td>\n",
       "      <td>2019-02-01 00:00:20.6360</td>\n",
       "      <td>2019-02-01 00:04:52.0580</td>\n",
       "      <td>24.0</td>\n",
       "      <td>Spear St at Folsom St</td>\n",
       "      <td>37.789677</td>\n",
       "      <td>-122.390428</td>\n",
       "      <td>37.0</td>\n",
       "      <td>2nd St at Folsom St</td>\n",
       "      <td>37.785000</td>\n",
       "      <td>-122.395936</td>\n",
       "      <td>1057</td>\n",
       "      <td>Subscriber</td>\n",
       "      <td>1989.0</td>\n",
       "      <td>Male</td>\n",
       "      <td>No</td>\n",
       "    </tr>\n",
       "  </tbody>\n",
       "</table>\n",
       "</div>"
      ],
      "text/plain": [
       "        duration_sec                start_time                  end_time  \\\n",
       "183407           480  2019-02-01 00:04:49.7240  2019-02-01 00:12:50.0340   \n",
       "183408           313  2019-02-01 00:05:34.7440  2019-02-01 00:10:48.5020   \n",
       "183409           141  2019-02-01 00:06:05.5490  2019-02-01 00:08:27.2200   \n",
       "183410           139  2019-02-01 00:05:34.3600  2019-02-01 00:07:54.2870   \n",
       "183411           271  2019-02-01 00:00:20.6360  2019-02-01 00:04:52.0580   \n",
       "\n",
       "        start_station_id                                start_station_name  \\\n",
       "183407              27.0                           Beale St at Harrison St   \n",
       "183408              21.0  Montgomery St BART Station (Market St at 2nd St)   \n",
       "183409             278.0                            The Alameda at Bush St   \n",
       "183410             220.0                       San Pablo Ave at MLK Jr Way   \n",
       "183411              24.0                             Spear St at Folsom St   \n",
       "\n",
       "        start_station_latitude  start_station_longitude  end_station_id  \\\n",
       "183407               37.788059              -122.391865           324.0   \n",
       "183408               37.789625              -122.400811            66.0   \n",
       "183409               37.331932              -121.904888           277.0   \n",
       "183410               37.811351              -122.273422           216.0   \n",
       "183411               37.789677              -122.390428            37.0   \n",
       "\n",
       "                           end_station_name  end_station_latitude  \\\n",
       "183407  Union Square (Powell St at Post St)             37.788300   \n",
       "183408                3rd St at Townsend St             37.778742   \n",
       "183409            Morrison Ave at Julian St             37.333658   \n",
       "183410             San Pablo Ave at 27th St             37.817827   \n",
       "183411                  2nd St at Folsom St             37.785000   \n",
       "\n",
       "        end_station_longitude  bike_id   user_type  member_birth_year  \\\n",
       "183407            -122.408531     4832  Subscriber             1996.0   \n",
       "183408            -122.392741     4960  Subscriber             1984.0   \n",
       "183409            -121.908586     3824  Subscriber             1990.0   \n",
       "183410            -122.275698     5095  Subscriber             1988.0   \n",
       "183411            -122.395936     1057  Subscriber             1989.0   \n",
       "\n",
       "       member_gender bike_share_for_all_trip  \n",
       "183407          Male                      No  \n",
       "183408          Male                      No  \n",
       "183409          Male                     Yes  \n",
       "183410          Male                      No  \n",
       "183411          Male                      No  "
      ]
     },
     "execution_count": 26,
     "metadata": {},
     "output_type": "execute_result"
    }
   ],
   "source": [
    "df.tail()"
   ]
  },
  {
   "cell_type": "code",
   "execution_count": 27,
   "metadata": {},
   "outputs": [
    {
     "data": {
      "text/plain": [
       "No     166053\n",
       "Yes     17359\n",
       "Name: bike_share_for_all_trip, dtype: int64"
      ]
     },
     "execution_count": 27,
     "metadata": {},
     "output_type": "execute_result"
    }
   ],
   "source": [
    "# exploring bikeshare for all trip column? \n",
    "df.bike_share_for_all_trip.value_counts()"
   ]
  },
  {
   "cell_type": "code",
   "execution_count": 28,
   "metadata": {},
   "outputs": [
    {
     "name": "stdout",
     "output_type": "stream",
     "text": [
      "Male      130651\n",
      "Female     40844\n",
      "Other       3652\n",
      "Name: member_gender, dtype: int64\n"
     ]
    }
   ],
   "source": [
    "# explore gender\n",
    "\n",
    "if 'member_gender' in(df.columns):\n",
    "        print(df['member_gender'].value_counts())\n"
   ]
  },
  {
   "cell_type": "code",
   "execution_count": 29,
   "metadata": {},
   "outputs": [
    {
     "data": {
      "text/plain": [
       "['duration_sec',\n",
       " 'start_time',\n",
       " 'end_time',\n",
       " 'start_station_id',\n",
       " 'start_station_name',\n",
       " 'start_station_latitude',\n",
       " 'start_station_longitude',\n",
       " 'end_station_id',\n",
       " 'end_station_name',\n",
       " 'end_station_latitude',\n",
       " 'end_station_longitude',\n",
       " 'bike_id',\n",
       " 'user_type',\n",
       " 'member_birth_year',\n",
       " 'member_gender',\n",
       " 'bike_share_for_all_trip']"
      ]
     },
     "execution_count": 29,
     "metadata": {},
     "output_type": "execute_result"
    }
   ],
   "source": [
    "# take a look at the columns in df\n",
    "\n",
    "list(df)"
   ]
  },
  {
   "cell_type": "code",
   "execution_count": 30,
   "metadata": {},
   "outputs": [
    {
     "data": {
      "text/plain": [
       "0"
      ]
     },
     "execution_count": 30,
     "metadata": {},
     "output_type": "execute_result"
    }
   ],
   "source": [
    "# assessing for duplicate values \n",
    "\n",
    "df.duplicated().sum()"
   ]
  },
  {
   "cell_type": "code",
   "execution_count": 31,
   "metadata": {},
   "outputs": [
    {
     "data": {
      "text/plain": [
       "duration_sec                  0\n",
       "start_time                    0\n",
       "end_time                      0\n",
       "start_station_id            197\n",
       "start_station_name          197\n",
       "start_station_latitude        0\n",
       "start_station_longitude       0\n",
       "end_station_id              197\n",
       "end_station_name            197\n",
       "end_station_latitude          0\n",
       "end_station_longitude         0\n",
       "bike_id                       0\n",
       "user_type                     0\n",
       "member_birth_year          8265\n",
       "member_gender              8265\n",
       "bike_share_for_all_trip       0\n",
       "dtype: int64"
      ]
     },
     "execution_count": 31,
     "metadata": {},
     "output_type": "execute_result"
    }
   ],
   "source": [
    "df.isnull().sum()"
   ]
  },
  {
   "cell_type": "code",
   "execution_count": 32,
   "metadata": {},
   "outputs": [
    {
     "data": {
      "text/plain": [
       "start_station_name          329\n",
       "end_station_name            329\n",
       "bike_id                    4646\n",
       "user_type                     2\n",
       "member_gender                 3\n",
       "bike_share_for_all_trip       2\n",
       "dtype: int64"
      ]
     },
     "execution_count": 32,
     "metadata": {},
     "output_type": "execute_result"
    }
   ],
   "source": [
    "# how many unique values in initial columns of interest\n",
    "\n",
    "df[[\"start_station_name\",\n",
    " \"end_station_name\",\n",
    " \"bike_id\",\n",
    " \"user_type\",\n",
    " \"member_gender\",\n",
    " \"bike_share_for_all_trip\"]].nunique()"
   ]
  },
  {
   "cell_type": "code",
   "execution_count": 33,
   "metadata": {},
   "outputs": [
    {
     "data": {
      "text/plain": [
       "329"
      ]
     },
     "execution_count": 33,
     "metadata": {},
     "output_type": "execute_result"
    }
   ],
   "source": [
    "# how many stations are there?\n",
    "df.start_station_name.nunique()"
   ]
  },
  {
   "cell_type": "code",
   "execution_count": 34,
   "metadata": {
    "scrolled": true
   },
   "outputs": [
    {
     "data": {
      "text/html": [
       "<div>\n",
       "<style scoped>\n",
       "    .dataframe tbody tr th:only-of-type {\n",
       "        vertical-align: middle;\n",
       "    }\n",
       "\n",
       "    .dataframe tbody tr th {\n",
       "        vertical-align: top;\n",
       "    }\n",
       "\n",
       "    .dataframe thead th {\n",
       "        text-align: right;\n",
       "    }\n",
       "</style>\n",
       "<table border=\"1\" class=\"dataframe\">\n",
       "  <thead>\n",
       "    <tr style=\"text-align: right;\">\n",
       "      <th></th>\n",
       "      <th>duration_sec</th>\n",
       "      <th>start_station_id</th>\n",
       "      <th>start_station_latitude</th>\n",
       "      <th>start_station_longitude</th>\n",
       "      <th>end_station_id</th>\n",
       "      <th>end_station_latitude</th>\n",
       "      <th>end_station_longitude</th>\n",
       "      <th>bike_id</th>\n",
       "      <th>member_birth_year</th>\n",
       "    </tr>\n",
       "  </thead>\n",
       "  <tbody>\n",
       "    <tr>\n",
       "      <th>count</th>\n",
       "      <td>183412.000000</td>\n",
       "      <td>183215.000000</td>\n",
       "      <td>183412.000000</td>\n",
       "      <td>183412.000000</td>\n",
       "      <td>183215.000000</td>\n",
       "      <td>183412.000000</td>\n",
       "      <td>183412.000000</td>\n",
       "      <td>183412.000000</td>\n",
       "      <td>175147.000000</td>\n",
       "    </tr>\n",
       "    <tr>\n",
       "      <th>mean</th>\n",
       "      <td>726.078435</td>\n",
       "      <td>138.590427</td>\n",
       "      <td>37.771223</td>\n",
       "      <td>-122.352664</td>\n",
       "      <td>136.249123</td>\n",
       "      <td>37.771427</td>\n",
       "      <td>-122.352250</td>\n",
       "      <td>4472.906375</td>\n",
       "      <td>1984.806437</td>\n",
       "    </tr>\n",
       "    <tr>\n",
       "      <th>std</th>\n",
       "      <td>1794.389780</td>\n",
       "      <td>111.778864</td>\n",
       "      <td>0.099581</td>\n",
       "      <td>0.117097</td>\n",
       "      <td>111.515131</td>\n",
       "      <td>0.099490</td>\n",
       "      <td>0.116673</td>\n",
       "      <td>1664.383394</td>\n",
       "      <td>10.116689</td>\n",
       "    </tr>\n",
       "    <tr>\n",
       "      <th>min</th>\n",
       "      <td>61.000000</td>\n",
       "      <td>3.000000</td>\n",
       "      <td>37.317298</td>\n",
       "      <td>-122.453704</td>\n",
       "      <td>3.000000</td>\n",
       "      <td>37.317298</td>\n",
       "      <td>-122.453704</td>\n",
       "      <td>11.000000</td>\n",
       "      <td>1878.000000</td>\n",
       "    </tr>\n",
       "    <tr>\n",
       "      <th>25%</th>\n",
       "      <td>325.000000</td>\n",
       "      <td>47.000000</td>\n",
       "      <td>37.770083</td>\n",
       "      <td>-122.412408</td>\n",
       "      <td>44.000000</td>\n",
       "      <td>37.770407</td>\n",
       "      <td>-122.411726</td>\n",
       "      <td>3777.000000</td>\n",
       "      <td>1980.000000</td>\n",
       "    </tr>\n",
       "    <tr>\n",
       "      <th>50%</th>\n",
       "      <td>514.000000</td>\n",
       "      <td>104.000000</td>\n",
       "      <td>37.780760</td>\n",
       "      <td>-122.398285</td>\n",
       "      <td>100.000000</td>\n",
       "      <td>37.781010</td>\n",
       "      <td>-122.398279</td>\n",
       "      <td>4958.000000</td>\n",
       "      <td>1987.000000</td>\n",
       "    </tr>\n",
       "    <tr>\n",
       "      <th>75%</th>\n",
       "      <td>796.000000</td>\n",
       "      <td>239.000000</td>\n",
       "      <td>37.797280</td>\n",
       "      <td>-122.286533</td>\n",
       "      <td>235.000000</td>\n",
       "      <td>37.797320</td>\n",
       "      <td>-122.288045</td>\n",
       "      <td>5502.000000</td>\n",
       "      <td>1992.000000</td>\n",
       "    </tr>\n",
       "    <tr>\n",
       "      <th>max</th>\n",
       "      <td>85444.000000</td>\n",
       "      <td>398.000000</td>\n",
       "      <td>37.880222</td>\n",
       "      <td>-121.874119</td>\n",
       "      <td>398.000000</td>\n",
       "      <td>37.880222</td>\n",
       "      <td>-121.874119</td>\n",
       "      <td>6645.000000</td>\n",
       "      <td>2001.000000</td>\n",
       "    </tr>\n",
       "  </tbody>\n",
       "</table>\n",
       "</div>"
      ],
      "text/plain": [
       "        duration_sec  start_station_id  start_station_latitude  \\\n",
       "count  183412.000000     183215.000000           183412.000000   \n",
       "mean      726.078435        138.590427               37.771223   \n",
       "std      1794.389780        111.778864                0.099581   \n",
       "min        61.000000          3.000000               37.317298   \n",
       "25%       325.000000         47.000000               37.770083   \n",
       "50%       514.000000        104.000000               37.780760   \n",
       "75%       796.000000        239.000000               37.797280   \n",
       "max     85444.000000        398.000000               37.880222   \n",
       "\n",
       "       start_station_longitude  end_station_id  end_station_latitude  \\\n",
       "count            183412.000000   183215.000000         183412.000000   \n",
       "mean               -122.352664      136.249123             37.771427   \n",
       "std                   0.117097      111.515131              0.099490   \n",
       "min                -122.453704        3.000000             37.317298   \n",
       "25%                -122.412408       44.000000             37.770407   \n",
       "50%                -122.398285      100.000000             37.781010   \n",
       "75%                -122.286533      235.000000             37.797320   \n",
       "max                -121.874119      398.000000             37.880222   \n",
       "\n",
       "       end_station_longitude        bike_id  member_birth_year  \n",
       "count          183412.000000  183412.000000      175147.000000  \n",
       "mean             -122.352250    4472.906375        1984.806437  \n",
       "std                 0.116673    1664.383394          10.116689  \n",
       "min              -122.453704      11.000000        1878.000000  \n",
       "25%              -122.411726    3777.000000        1980.000000  \n",
       "50%              -122.398279    4958.000000        1987.000000  \n",
       "75%              -122.288045    5502.000000        1992.000000  \n",
       "max              -121.874119    6645.000000        2001.000000  "
      ]
     },
     "execution_count": 34,
     "metadata": {},
     "output_type": "execute_result"
    }
   ],
   "source": [
    "df.describe()"
   ]
  },
  {
   "cell_type": "code",
   "execution_count": 35,
   "metadata": {},
   "outputs": [
    {
     "data": {
      "text/html": [
       "<div>\n",
       "<style scoped>\n",
       "    .dataframe tbody tr th:only-of-type {\n",
       "        vertical-align: middle;\n",
       "    }\n",
       "\n",
       "    .dataframe tbody tr th {\n",
       "        vertical-align: top;\n",
       "    }\n",
       "\n",
       "    .dataframe thead th {\n",
       "        text-align: right;\n",
       "    }\n",
       "</style>\n",
       "<table border=\"1\" class=\"dataframe\">\n",
       "  <thead>\n",
       "    <tr style=\"text-align: right;\">\n",
       "      <th></th>\n",
       "      <th>member_birth_year</th>\n",
       "      <th>duration_sec</th>\n",
       "    </tr>\n",
       "  </thead>\n",
       "  <tbody>\n",
       "    <tr>\n",
       "      <th>count</th>\n",
       "      <td>175147.000000</td>\n",
       "      <td>183412.000000</td>\n",
       "    </tr>\n",
       "    <tr>\n",
       "      <th>mean</th>\n",
       "      <td>1984.806437</td>\n",
       "      <td>726.078435</td>\n",
       "    </tr>\n",
       "    <tr>\n",
       "      <th>std</th>\n",
       "      <td>10.116689</td>\n",
       "      <td>1794.389780</td>\n",
       "    </tr>\n",
       "    <tr>\n",
       "      <th>min</th>\n",
       "      <td>1878.000000</td>\n",
       "      <td>61.000000</td>\n",
       "    </tr>\n",
       "    <tr>\n",
       "      <th>25%</th>\n",
       "      <td>1980.000000</td>\n",
       "      <td>325.000000</td>\n",
       "    </tr>\n",
       "    <tr>\n",
       "      <th>50%</th>\n",
       "      <td>1987.000000</td>\n",
       "      <td>514.000000</td>\n",
       "    </tr>\n",
       "    <tr>\n",
       "      <th>75%</th>\n",
       "      <td>1992.000000</td>\n",
       "      <td>796.000000</td>\n",
       "    </tr>\n",
       "    <tr>\n",
       "      <th>max</th>\n",
       "      <td>2001.000000</td>\n",
       "      <td>85444.000000</td>\n",
       "    </tr>\n",
       "  </tbody>\n",
       "</table>\n",
       "</div>"
      ],
      "text/plain": [
       "       member_birth_year   duration_sec\n",
       "count      175147.000000  183412.000000\n",
       "mean         1984.806437     726.078435\n",
       "std            10.116689    1794.389780\n",
       "min          1878.000000      61.000000\n",
       "25%          1980.000000     325.000000\n",
       "50%          1987.000000     514.000000\n",
       "75%          1992.000000     796.000000\n",
       "max          2001.000000   85444.000000"
      ]
     },
     "execution_count": 35,
     "metadata": {},
     "output_type": "execute_result"
    }
   ],
   "source": [
    "# explore birth year vs duration of trip\n",
    "\n",
    "df[[\"member_birth_year\", \"duration_sec\"]].describe()"
   ]
  },
  {
   "cell_type": "code",
   "execution_count": 36,
   "metadata": {},
   "outputs": [],
   "source": [
    "# based on the mix in birth year, I am curious to see when ages that are above the median ride vs the majority"
   ]
  },
  {
   "cell_type": "markdown",
   "metadata": {},
   "source": [
    "### What is the structure of your dataset?\n",
    "\n",
    "> There are 183412 rows and 16 columns that give user information for ( 'duration_sec',\n",
    " 'start_time',\n",
    " 'end_time',\n",
    " 'start_station_id',\n",
    " 'start_station_name',\n",
    " 'start_station_latitude',\n",
    " 'start_station_longitude',\n",
    " 'end_station_id',\n",
    " 'end_station_name',\n",
    " 'end_station_latitude',\n",
    " 'end_station_longitude',\n",
    " 'bike_id',\n",
    " 'user_type',\n",
    " 'member_birth_year',\n",
    " 'member_gender',\n",
    " 'bike_share_for_all_trip'). \n",
    " \n",
    "> The majority of the variables are numerical, however there are some categorical values for the users like customer vs. subscriber as an example. \n",
    "\n",
    "### What is/are the main feature(s) of interest in your dataset?\n",
    "\n",
    "> I am curious about the length of trips, are they longer or shorter overall. It will also be interesting to see if age or user type played a factor in the length of rides. \n",
    "\n",
    "### What features in the dataset do you think will help support your investigation into your feature(s) of interest?\n",
    "\n",
    "> User birth year, their subscriber type and trip duration."
   ]
  },
  {
   "cell_type": "code",
   "execution_count": 39,
   "metadata": {},
   "outputs": [
    {
     "ename": "TypeError",
     "evalue": "'method' object is not subscriptable",
     "output_type": "error",
     "traceback": [
      "\u001b[0;31m---------------------------------------------------------------------------\u001b[0m",
      "\u001b[0;31mTypeError\u001b[0m                                 Traceback (most recent call last)",
      "\u001b[0;32m<ipython-input-39-4f759e6b2633>\u001b[0m in \u001b[0;36m<module>\u001b[0;34m()\u001b[0m\n\u001b[1;32m      4\u001b[0m \u001b[0mdf_clean\u001b[0m \u001b[0;34m=\u001b[0m \u001b[0mdf\u001b[0m\u001b[0;34m.\u001b[0m\u001b[0mcopy\u001b[0m\u001b[0;34m\u001b[0m\u001b[0m\n\u001b[1;32m      5\u001b[0m \u001b[0;34m\u001b[0m\u001b[0m\n\u001b[0;32m----> 6\u001b[0;31m \u001b[0mdf_clean\u001b[0m\u001b[0;34m[\u001b[0m\u001b[0;34m'start_station_id'\u001b[0m\u001b[0;34m]\u001b[0m \u001b[0;34m=\u001b[0m \u001b[0mdf_clean\u001b[0m\u001b[0;34m[\u001b[0m\u001b[0;34m'start_station_id'\u001b[0m\u001b[0;34m]\u001b[0m\u001b[0;34m.\u001b[0m\u001b[0mastype\u001b[0m\u001b[0;34m(\u001b[0m\u001b[0;34m'str'\u001b[0m\u001b[0;34m)\u001b[0m\u001b[0;34m\u001b[0m\u001b[0m\n\u001b[0m\u001b[1;32m      7\u001b[0m \u001b[0mdf_clean\u001b[0m\u001b[0;34m[\u001b[0m\u001b[0;34m'end_station_id'\u001b[0m\u001b[0;34m]\u001b[0m \u001b[0;34m=\u001b[0m \u001b[0mdf_clean\u001b[0m\u001b[0;34m[\u001b[0m\u001b[0;34m'end_station_id'\u001b[0m\u001b[0;34m]\u001b[0m\u001b[0;34m.\u001b[0m\u001b[0mastype\u001b[0m\u001b[0;34m(\u001b[0m\u001b[0;34m'str'\u001b[0m\u001b[0;34m)\u001b[0m\u001b[0;34m\u001b[0m\u001b[0m\n\u001b[1;32m      8\u001b[0m \u001b[0mdf_clean\u001b[0m\u001b[0;34m[\u001b[0m\u001b[0;34m'user_type'\u001b[0m\u001b[0;34m]\u001b[0m \u001b[0;34m=\u001b[0m \u001b[0mdf_clean\u001b[0m\u001b[0;34m[\u001b[0m\u001b[0;34m'user_type'\u001b[0m\u001b[0;34m]\u001b[0m\u001b[0;34m.\u001b[0m\u001b[0mastype\u001b[0m\u001b[0;34m(\u001b[0m\u001b[0;34m'category'\u001b[0m\u001b[0;34m)\u001b[0m\u001b[0;34m\u001b[0m\u001b[0m\n",
      "\u001b[0;31mTypeError\u001b[0m: 'method' object is not subscriptable"
     ]
    }
   ],
   "source": [
    "# Cleaning phase \n",
    "\n",
    "# copy dataframe, fix data types\n",
    "df_clean = df.copy\n",
    "\n",
    "df_clean['start_station_id'] = df_clean['start_station_id'].astype('str')\n",
    "df_clean['end_station_id'] = df_clean['end_station_id'].astype('str')\n",
    "df_clean['user_type'] = df_clean['user_type'].astype('category')\n",
    "df_clean['bike_id'] = df_clean['bike_id'].astype('str')\n",
    "df_clean['member_gender'] = df_clean['member_gender'].astype('category')\n",
    "\n"
   ]
  },
  {
   "cell_type": "code",
   "execution_count": 23,
   "metadata": {},
   "outputs": [],
   "source": [
    "df['start_time'] = pd.to_datetime(df['start_time'])\n",
    "#df['start_month_num'] = df['start_time'].apply(lambda time: time.month)\n",
    "#df['start_month_cal'] = df['start_month_num'].apply(lambda x: calendar.month_abbr[x])\n",
    "\n",
    "\n",
    "#df_clean['start_time'] = pd.to_datetime(df_clean['start_time'])\n",
    "#df_clean['end_time'] = pd.to_datetime(df_clean['end_time'])"
   ]
  },
  {
   "cell_type": "code",
   "execution_count": 24,
   "metadata": {},
   "outputs": [],
   "source": [
    "# adding in new columns\n",
    "\n",
    "df_clean['start_date'] = df_clean.start_time.dt.strftime('%Y-%m-%d')\n",
    "df_clean['start_hourofday'] = df_clean.start_time.dt.strftime('%H')\n",
    "df_clean['start_dayofweek'] = df_clean.start_time.dt.strftime('%A')\n",
    "df_clean['start_month'] = df_clean.start_time.dt.strftime('%B')\n",
    "\n",
    "# end time columns \n",
    "#df_clean['duration_minute'] = df_clean['duration_sec']/60\n",
    "#df_clean['start_date'] = df_clean.start_time.dt.strftime('%Y-%m-%d')\n",
    "#df_clean['start_hourofday'] = df_clean.start_time.dt.strftime('%H')\n",
    "#df_clean['start_dayofweek'] = df_clean.start_time.dt.strftime('%A')\n",
    "#df_clean['start_month'] = df_clean.start_time.dt.strftime('%B')\n"
   ]
  },
  {
   "cell_type": "code",
   "execution_count": 25,
   "metadata": {},
   "outputs": [],
   "source": [
    "df_clean['start_hour'] = df_clean['start_time'].apply(lambda time: time.hour)\n",
    "df_clean['period_day'] = 'morning'\n",
    "df_clean['period_day'][(df_clean['start_hour'] >= 12) & (df_clean['start_hour'] <= 17)] = 'afternoon'\n",
    "df_clean['period_day'][(df_clean['start_hour'] >= 18) & (df_clean['start_hour'] <= 23)] = 'night'"
   ]
  },
  {
   "cell_type": "code",
   "execution_count": 26,
   "metadata": {},
   "outputs": [
    {
     "name": "stdout",
     "output_type": "stream",
     "text": [
      "17    21864\n",
      "8     21056\n",
      "18    16827\n",
      "9     15903\n",
      "16    14169\n",
      "7     10614\n",
      "19     9881\n",
      "15     9174\n",
      "12     8724\n",
      "13     8551\n",
      "10     8364\n",
      "14     8152\n",
      "11     7884\n",
      "20     6482\n",
      "21     4561\n",
      "6      3485\n",
      "22     2916\n",
      "23     1646\n",
      "0       925\n",
      "5       896\n",
      "1       548\n",
      "2       381\n",
      "4       235\n",
      "3       174\n",
      "Name: start_hour, dtype: int64\n",
      "afternoon    70634\n",
      "morning      70465\n",
      "night        42313\n",
      "Name: period_day, dtype: int64\n"
     ]
    }
   ],
   "source": [
    "# checking results of period day creation\n",
    "print(df_clean['start_hour'].value_counts())\n",
    "print(df_clean['period_day'].value_counts())"
   ]
  },
  {
   "cell_type": "code",
   "execution_count": 27,
   "metadata": {},
   "outputs": [],
   "source": [
    "# convert time period, month, and weekday into ordered categorical types\n",
    "cat_dict = {'start_month': ['Feb'],\n",
    "                    'period_day': ['morning', 'afternoon', 'night'],\n",
    "                    'start_dayofweek': ['Mon', 'Tue', 'Wed', 'Thu', 'Fri', 'Sat', 'Sun']}\n",
    "\n",
    "for var in cat_dict:\n",
    "    ordered_var = pd.api.types.CategoricalDtype(ordered = True,\n",
    "                                                categories = cat_dict[var])\n",
    "    df_clean[var] = df_clean[var].astype(ordered_var)"
   ]
  },
  {
   "cell_type": "code",
   "execution_count": 69,
   "metadata": {},
   "outputs": [],
   "source": [
    "# list of numeric variables and categorical variables for exploration\n",
    "\n",
    "numeric_vars = ['age','duration_minute']\n",
    "times_chr = ['period_day','start_dayofweek']\n",
    "users_chr = ['user_type','member_gender']"
   ]
  },
  {
   "cell_type": "code",
   "execution_count": 28,
   "metadata": {},
   "outputs": [
    {
     "name": "stdout",
     "output_type": "stream",
     "text": [
      "<class 'pandas.core.frame.DataFrame'>\n",
      "RangeIndex: 183412 entries, 0 to 183411\n",
      "Data columns (total 25 columns):\n",
      "duration_sec               183412 non-null int64\n",
      "start_time                 183412 non-null datetime64[ns]\n",
      "end_time                   183412 non-null object\n",
      "start_station_id           183412 non-null object\n",
      "start_station_name         183215 non-null object\n",
      "start_station_latitude     183412 non-null float64\n",
      "start_station_longitude    183412 non-null float64\n",
      "end_station_id             183412 non-null object\n",
      "end_station_name           183215 non-null object\n",
      "end_station_latitude       183412 non-null float64\n",
      "end_station_longitude      183412 non-null float64\n",
      "bike_id                    183412 non-null object\n",
      "user_type                  183412 non-null category\n",
      "member_birth_year          175147 non-null float64\n",
      "member_gender              175147 non-null category\n",
      "bike_share_for_all_trip    183412 non-null object\n",
      "start_month_num            183412 non-null int64\n",
      "start_month_cal            183412 non-null object\n",
      "start_date                 183412 non-null object\n",
      "start_hourofday            183412 non-null object\n",
      "start_dayofweek            0 non-null category\n",
      "start_month                0 non-null category\n",
      "duration_minute            183412 non-null float64\n",
      "start_hour                 183412 non-null int64\n",
      "period_day                 183412 non-null category\n",
      "dtypes: category(5), datetime64[ns](1), float64(6), int64(3), object(10)\n",
      "memory usage: 28.9+ MB\n"
     ]
    }
   ],
   "source": [
    "df_clean.info(null_counts=True)"
   ]
  },
  {
   "cell_type": "markdown",
   "metadata": {},
   "source": [
    "# Part I - (Dataset Exploration Title)\n",
    "## by Malb\n",
    "\n",
    "## Introduction\n",
    "> This is the exploration of 2019 user data for fordgobike located in San Francisco. This dataset includes 16 features and 183,412 lines\n",
    "\n",
    ">**Rubric Tip**: Your code should not generate any errors, and should use functions, loops where possible to reduce repetitive code. Prefer to use functions to reuse code statements.\n",
    "\n",
    "> **Rubric Tip**: Document your approach and findings in markdown cells. Use comments and docstrings in code cells to document the code functionality.\n",
    "\n",
    ">**Rubric Tip**: Markup cells should have headers and text that organize your thoughts, findings, and what you plan on investigating next.  \n",
    "\n",
    "\n",
    "\n",
    "## Preliminary Wrangling\n"
   ]
  },
  {
   "cell_type": "code",
   "execution_count": 29,
   "metadata": {},
   "outputs": [],
   "source": [
    "df_clean['age'] = df_clean['member_birth_year'].apply(lambda x:2019 - x)"
   ]
  },
  {
   "cell_type": "code",
   "execution_count": 89,
   "metadata": {},
   "outputs": [],
   "source": [
    "#drop columns I will not be using for analysis\n",
    "\n",
    "df_clean.drop([\n",
    " 'start_station_id',\n",
    " 'start_station_name',\n",
    " 'end_station_id',\n",
    " 'end_station_name',\n",
    " 'bike_id','start_station_latitude',\n",
    " 'start_station_longitude',\n",
    " 'end_station_latitude',\n",
    " 'end_station_longitude'], axis=1, inplace=True)"
   ]
  },
  {
   "cell_type": "code",
   "execution_count": 90,
   "metadata": {},
   "outputs": [
    {
     "data": {
      "text/plain": [
       "['duration_sec',\n",
       " 'start_time',\n",
       " 'end_time',\n",
       " 'user_type',\n",
       " 'member_birth_year',\n",
       " 'member_gender',\n",
       " 'bike_share_for_all_trip',\n",
       " 'start_month_num',\n",
       " 'start_month_cal',\n",
       " 'start_date',\n",
       " 'start_hourofday',\n",
       " 'start_dayofweek',\n",
       " 'start_month',\n",
       " 'duration_minute',\n",
       " 'start_hour',\n",
       " 'period_day',\n",
       " 'age']"
      ]
     },
     "execution_count": 90,
     "metadata": {},
     "output_type": "execute_result"
    }
   ],
   "source": [
    "#confirm drops\n",
    "\n",
    "list(df_clean)"
   ]
  },
  {
   "cell_type": "code",
   "execution_count": null,
   "metadata": {},
   "outputs": [],
   "source": [
    "df_clean.head()"
   ]
  },
  {
   "cell_type": "code",
   "execution_count": 94,
   "metadata": {},
   "outputs": [
    {
     "data": {
      "text/html": [
       "<div>\n",
       "<style scoped>\n",
       "    .dataframe tbody tr th:only-of-type {\n",
       "        vertical-align: middle;\n",
       "    }\n",
       "\n",
       "    .dataframe tbody tr th {\n",
       "        vertical-align: top;\n",
       "    }\n",
       "\n",
       "    .dataframe thead th {\n",
       "        text-align: right;\n",
       "    }\n",
       "</style>\n",
       "<table border=\"1\" class=\"dataframe\">\n",
       "  <thead>\n",
       "    <tr style=\"text-align: right;\">\n",
       "      <th></th>\n",
       "      <th>duration_sec</th>\n",
       "      <th>member_birth_year</th>\n",
       "      <th>start_month_num</th>\n",
       "      <th>duration_minute</th>\n",
       "      <th>start_hour</th>\n",
       "      <th>age</th>\n",
       "    </tr>\n",
       "  </thead>\n",
       "  <tbody>\n",
       "    <tr>\n",
       "      <th>count</th>\n",
       "      <td>183412.000000</td>\n",
       "      <td>175147.000000</td>\n",
       "      <td>183412.0</td>\n",
       "      <td>183412.000000</td>\n",
       "      <td>183412.000000</td>\n",
       "      <td>175147.000000</td>\n",
       "    </tr>\n",
       "    <tr>\n",
       "      <th>mean</th>\n",
       "      <td>726.078435</td>\n",
       "      <td>1984.806437</td>\n",
       "      <td>2.0</td>\n",
       "      <td>12.101307</td>\n",
       "      <td>13.458421</td>\n",
       "      <td>34.193563</td>\n",
       "    </tr>\n",
       "    <tr>\n",
       "      <th>std</th>\n",
       "      <td>1794.389780</td>\n",
       "      <td>10.116689</td>\n",
       "      <td>0.0</td>\n",
       "      <td>29.906496</td>\n",
       "      <td>4.724978</td>\n",
       "      <td>10.116689</td>\n",
       "    </tr>\n",
       "    <tr>\n",
       "      <th>min</th>\n",
       "      <td>61.000000</td>\n",
       "      <td>1878.000000</td>\n",
       "      <td>2.0</td>\n",
       "      <td>1.016667</td>\n",
       "      <td>0.000000</td>\n",
       "      <td>18.000000</td>\n",
       "    </tr>\n",
       "    <tr>\n",
       "      <th>25%</th>\n",
       "      <td>325.000000</td>\n",
       "      <td>1980.000000</td>\n",
       "      <td>2.0</td>\n",
       "      <td>5.416667</td>\n",
       "      <td>9.000000</td>\n",
       "      <td>27.000000</td>\n",
       "    </tr>\n",
       "    <tr>\n",
       "      <th>50%</th>\n",
       "      <td>514.000000</td>\n",
       "      <td>1987.000000</td>\n",
       "      <td>2.0</td>\n",
       "      <td>8.566667</td>\n",
       "      <td>14.000000</td>\n",
       "      <td>32.000000</td>\n",
       "    </tr>\n",
       "    <tr>\n",
       "      <th>75%</th>\n",
       "      <td>796.000000</td>\n",
       "      <td>1992.000000</td>\n",
       "      <td>2.0</td>\n",
       "      <td>13.266667</td>\n",
       "      <td>17.000000</td>\n",
       "      <td>39.000000</td>\n",
       "    </tr>\n",
       "    <tr>\n",
       "      <th>max</th>\n",
       "      <td>85444.000000</td>\n",
       "      <td>2001.000000</td>\n",
       "      <td>2.0</td>\n",
       "      <td>1424.066667</td>\n",
       "      <td>23.000000</td>\n",
       "      <td>141.000000</td>\n",
       "    </tr>\n",
       "  </tbody>\n",
       "</table>\n",
       "</div>"
      ],
      "text/plain": [
       "        duration_sec  member_birth_year  start_month_num  duration_minute  \\\n",
       "count  183412.000000      175147.000000         183412.0    183412.000000   \n",
       "mean      726.078435        1984.806437              2.0        12.101307   \n",
       "std      1794.389780          10.116689              0.0        29.906496   \n",
       "min        61.000000        1878.000000              2.0         1.016667   \n",
       "25%       325.000000        1980.000000              2.0         5.416667   \n",
       "50%       514.000000        1987.000000              2.0         8.566667   \n",
       "75%       796.000000        1992.000000              2.0        13.266667   \n",
       "max     85444.000000        2001.000000              2.0      1424.066667   \n",
       "\n",
       "          start_hour            age  \n",
       "count  183412.000000  175147.000000  \n",
       "mean       13.458421      34.193563  \n",
       "std         4.724978      10.116689  \n",
       "min         0.000000      18.000000  \n",
       "25%         9.000000      27.000000  \n",
       "50%        14.000000      32.000000  \n",
       "75%        17.000000      39.000000  \n",
       "max        23.000000     141.000000  "
      ]
     },
     "execution_count": 94,
     "metadata": {},
     "output_type": "execute_result"
    }
   ],
   "source": [
    "df_clean.describe()"
   ]
  },
  {
   "cell_type": "markdown",
   "metadata": {},
   "source": [
    "## Univariate Exploration\n",
    "\n",
    "> **Question**: How are many users are customers vs. subscribers? \n"
   ]
  },
  {
   "cell_type": "code",
   "execution_count": 30,
   "metadata": {},
   "outputs": [
    {
     "data": {
      "image/png": "[encoded data removed]",
      "text/plain": [
       "<Figure size 432x288 with 1 Axes>"
      ]
     },
     "metadata": {
      "needs_background": "light"
     },
     "output_type": "display_data"
    }
   ],
   "source": [
    "#countplot\n",
    "user_cat_order = df_clean['user_type'].value_counts().index\n",
    "sb.countplot(data = df_clean, x = 'user_type', order = user_cat_order);"
   ]
  },
  {
   "cell_type": "code",
   "execution_count": 31,
   "metadata": {},
   "outputs": [
    {
     "data": {
      "image/png": "[encoded data removed]",
      "text/plain": [
       "<Figure size 432x288 with 1 Axes>"
      ]
     },
     "metadata": {},
     "output_type": "display_data"
    }
   ],
   "source": [
    "# reviewer recommended showing data in different format for more clarity\n",
    "\n",
    "# pie chart\n",
    "\n",
    "sorted_counts = df_clean['user_type'].value_counts()\n",
    "plt.pie(sorted_counts, labels = sorted_counts.index, startangle = 90,\n",
    "        counterclock = False, autopct='%1.1f%%');\n",
    "plt.axis('square');"
   ]
  },
  {
   "cell_type": "markdown",
   "metadata": {},
   "source": [
    "> **Answer**: 89.2% of users are subscribers\n"
   ]
  },
  {
   "cell_type": "markdown",
   "metadata": {},
   "source": [
    "> **Question**: how long are most rides?"
   ]
  },
  {
   "cell_type": "code",
   "execution_count": 87,
   "metadata": {},
   "outputs": [
    {
     "data": {
      "text/plain": [
       "Text(0.5, 1.0, 'Trip duration in Minutes')"
      ]
     },
     "execution_count": 87,
     "metadata": {},
     "output_type": "execute_result"
    },
    {
     "data": {
      "image/png": "[encoded data removed]",
      "text/plain": [
       "<Figure size 720x360 with 1 Axes>"
      ]
     },
     "metadata": {},
     "output_type": "display_data"
    }
   ],
   "source": [
    "# histogram to review length of rentals in minutes\n",
    "\n",
    "plt.figure(figsize=[10,5])\n",
    "bin_edges = np.arange(0, df_clean.duration_minute.max()+10, 10)\n",
    "plt.hist(data = df_clean, x = 'duration_minute', bins = bin_edges)\n",
    "plt.xlabel('duration of trip');\n",
    "plt.title('Trip Duration in Minutes')"
   ]
  },
  {
   "cell_type": "markdown",
   "metadata": {},
   "source": [
    "> reviewer recommend adjusting chart to better see the lengths of rides"
   ]
  },
  {
   "cell_type": "code",
   "execution_count": 86,
   "metadata": {},
   "outputs": [
    {
     "data": {
      "image/png": "[encoded data removed]",
      "text/plain": [
       "<Figure size 576x432 with 1 Axes>"
      ]
     },
     "metadata": {},
     "output_type": "display_data"
    },
    {
     "data": {
      "text/plain": [
       "Text(0.5, 1.0, 'Trip duration in Minutes')"
      ]
     },
     "execution_count": 86,
     "metadata": {},
     "output_type": "execute_result"
    },
    {
     "data": {
      "image/png": "[encoded data removed]",
      "text/plain": [
       "<Figure size 576x432 with 1 Axes>"
      ]
     },
     "metadata": {},
     "output_type": "display_data"
    }
   ],
   "source": [
    "# histogram\n",
    "\n",
    "plt.hist(data = df_clean, x = 'duration_minute', bins=[1,5,10,15,20,25,30,35,40,60,100])\n",
    "plt.xlabel('duration of trip')\n",
    "plt.ylabel('number of users')\n",
    "plt.show()\n",
    "plt.title('Trip Duration in Minutes')"
   ]
  },
  {
   "cell_type": "code",
   "execution_count": 35,
   "metadata": {},
   "outputs": [
    {
     "data": {
      "image/png": "[encoded data removed]",
      "text/plain": [
       "<Figure size 720x360 with 1 Axes>"
      ]
     },
     "metadata": {
      "needs_background": "light"
     },
     "output_type": "display_data"
    }
   ],
   "source": [
    "# since duration has a long tail,  we implement the log scale\n",
    "\n",
    "plt.figure(figsize=[10,5])\n",
    "bin_edges = 10 ** np.arange(0.0, np.log10(df_clean.duration_minute.max())+0.1, 0.1)\n",
    "plt.hist(data = df_clean, x = 'duration_minute', bins = bin_edges)\n",
    "plt.xscale('log')\n",
    "tick_locs = [1, 2, 5, 10, 20, 50, 100, 200]\n",
    "plt.xticks(tick_locs, tick_locs)\n",
    "plt.xlabel('duration of trip');\n",
    "plt.title('Trip duration in Minutes')"
   ]
  },
  {
   "cell_type": "markdown",
   "metadata": {},
   "source": [
    "> **Answer**: It appears that most trips fall below the 20 minute mark"
   ]
  },
  {
   "cell_type": "markdown",
   "metadata": {},
   "source": [
    "> **Question**: If most trips are subscribers, are they happening in the morning, afternoon, or evening?"
   ]
  },
  {
   "cell_type": "code",
   "execution_count": 85,
   "metadata": {},
   "outputs": [
    {
     "data": {
      "text/plain": [
       "Text(0.5, 1.0, 'Ridership by Time of Day')"
      ]
     },
     "execution_count": 85,
     "metadata": {},
     "output_type": "execute_result"
    },
    {
     "data": {
      "image/png": "[encoded data removed]",
      "text/plain": [
       "<Figure size 576x432 with 1 Axes>"
      ]
     },
     "metadata": {},
     "output_type": "display_data"
    }
   ],
   "source": [
    "# what time of day are most trips taking place?\n",
    "\n",
    "plt.rcParams['figure.figsize'] = 8, 6\n",
    "base_color = sb.color_palette('colorblind')[0]\n",
    "sb.set_style('darkgrid')\n",
    "\n",
    "sb.countplot(data=df_clean, x='period_day', color=base_color);\n",
    "plt.xlabel('Trips by Period of Day');\n",
    "plt.ylabel('Number of Users');\n",
    "plt.title('Ridership by Time of Day')"
   ]
  },
  {
   "cell_type": "markdown",
   "metadata": {},
   "source": [
    "> **Answer**: It appears that majority of trips take place in the morning and afternoon. "
   ]
  },
  {
   "cell_type": "markdown",
   "metadata": {},
   "source": [
    "> **Question**: How do user types compare period of day?"
   ]
  },
  {
   "cell_type": "code",
   "execution_count": 84,
   "metadata": {},
   "outputs": [
    {
     "data": {
      "text/plain": [
       "Text(0.5, 1.0, 'User Type Ridership by Time of Day')"
      ]
     },
     "execution_count": 84,
     "metadata": {},
     "output_type": "execute_result"
    },
    {
     "data": {
      "image/png": "[encoded data removed]",
      "text/plain": [
       "<Figure size 576x432 with 1 Axes>"
      ]
     },
     "metadata": {},
     "output_type": "display_data"
    }
   ],
   "source": [
    "# countplot\n",
    "\n",
    "sb.countplot(data=df_clean, x='period_day', hue='user_type');\n",
    "plt.xlabel('Monthly use');\n",
    "plt.ylabel('Number of users');\n",
    "plt.title('User Type Ridership by Time of Day')\n"
   ]
  },
  {
   "cell_type": "markdown",
   "metadata": {},
   "source": [
    "> **Answer**: Subscribers are dominating the morning and afternoon timeframes. It is interesting to see that both customers and subscribers have usage drop during night. "
   ]
  },
  {
   "cell_type": "code",
   "execution_count": 53,
   "metadata": {},
   "outputs": [
    {
     "data": {
      "text/plain": [
       "['duration_sec',\n",
       " 'start_time',\n",
       " 'end_time',\n",
       " 'start_station_id',\n",
       " 'start_station_name',\n",
       " 'start_station_latitude',\n",
       " 'start_station_longitude',\n",
       " 'end_station_id',\n",
       " 'end_station_name',\n",
       " 'end_station_latitude',\n",
       " 'end_station_longitude',\n",
       " 'bike_id',\n",
       " 'user_type',\n",
       " 'member_birth_year',\n",
       " 'member_gender',\n",
       " 'bike_share_for_all_trip',\n",
       " 'start_month_num',\n",
       " 'start_month_cal',\n",
       " 'start_date',\n",
       " 'start_hourofday',\n",
       " 'start_dayofweek',\n",
       " 'start_month',\n",
       " 'duration_minute',\n",
       " 'start_hour',\n",
       " 'period_day',\n",
       " 'age']"
      ]
     },
     "execution_count": 53,
     "metadata": {},
     "output_type": "execute_result"
    }
   ],
   "source": [
    "list(df_clean)"
   ]
  },
  {
   "cell_type": "markdown",
   "metadata": {},
   "source": [
    "> **Question**: Are most users male, female, or other? "
   ]
  },
  {
   "cell_type": "code",
   "execution_count": 63,
   "metadata": {},
   "outputs": [
    {
     "data": {
      "image/png": "[encoded data removed]",
      "text/plain": [
       "<Figure size 576x432 with 1 Axes>"
      ]
     },
     "metadata": {},
     "output_type": "display_data"
    }
   ],
   "source": [
    "# bar chart\n",
    "df_clean.member_gender.value_counts().plot('bar')\n",
    "plt.title(\"Member Genders\")\n",
    "plt.xlabel('Gender')\n",
    "plt.ylabel('User Count');"
   ]
  },
  {
   "cell_type": "markdown",
   "metadata": {},
   "source": [
    "> **Answer**: Over 120,000 of the users are male.  "
   ]
  },
  {
   "cell_type": "markdown",
   "metadata": {},
   "source": [
    "> **Question**: Is there a popular rental hour for each gender? "
   ]
  },
  {
   "cell_type": "code",
   "execution_count": 83,
   "metadata": {},
   "outputs": [
    {
     "data": {
      "text/plain": [
       "Text(0.5, 1.0, 'Member Gender Ridership by Hour')"
      ]
     },
     "execution_count": 83,
     "metadata": {},
     "output_type": "execute_result"
    },
    {
     "data": {
      "image/png": "[encoded data removed]",
      "text/plain": [
       "<Figure size 576x432 with 1 Axes>"
      ]
     },
     "metadata": {},
     "output_type": "display_data"
    }
   ],
   "source": [
    "sb.countplot(data=df_clean, x='start_hourofday', hue='member_gender');\n",
    "plt.xlabel('Day of Week');\n",
    "plt.ylabel('Count');\n",
    "plt.title('Member Gender Ridership by Hour')"
   ]
  },
  {
   "cell_type": "markdown",
   "metadata": {},
   "source": [
    "> **Answer**: The most popular hour for both Male is 17:00 which is afternoon and Female is 08:00 which is morning. However both saw a peak n ridership during both times. "
   ]
  },
  {
   "cell_type": "code",
   "execution_count": 80,
   "metadata": {},
   "outputs": [
    {
     "name": "stdout",
     "output_type": "stream",
     "text": [
      "The most common start hour is : 17\n"
     ]
    }
   ],
   "source": [
    "print('The most common start hour is : {}'.format(df_clean['start_hour'].mode()[0]))"
   ]
  },
  {
   "cell_type": "markdown",
   "metadata": {},
   "source": [
    "## Bivariate Exploration \n",
    "\n",
    "> **Question**: We've established that most users are subscribers. Working age into the analysis to see if age plays a factor."
   ]
  },
  {
   "cell_type": "code",
   "execution_count": 82,
   "metadata": {},
   "outputs": [
    {
     "data": {
      "text/plain": [
       "Text(0.5, 1.0, 'Age Distribution by Subscriber Type')"
      ]
     },
     "execution_count": 82,
     "metadata": {},
     "output_type": "execute_result"
    },
    {
     "data": {
      "image/png": "[encoded data removed]",
      "text/plain": [
       "<Figure size 576x432 with 1 Axes>"
      ]
     },
     "metadata": {},
     "output_type": "display_data"
    }
   ],
   "source": [
    "sb.boxplot(data=df_clean, x='user_type', y='age', color=base_color);\n",
    "plt.xlabel('User Type');\n",
    "plt.ylabel('Ages of users');\n",
    "plt.title('Age Distribution by Subscriber Type')"
   ]
  },
  {
   "cell_type": "code",
   "execution_count": 40,
   "metadata": {},
   "outputs": [
    {
     "name": "stdout",
     "output_type": "stream",
     "text": [
      "<class 'pandas.core.frame.DataFrame'>\n",
      "Int64Index: 174572 entries, 0 to 183411\n",
      "Data columns (total 26 columns):\n",
      "duration_sec               174572 non-null int64\n",
      "start_time                 174572 non-null datetime64[ns]\n",
      "end_time                   174572 non-null object\n",
      "start_station_id           174572 non-null object\n",
      "start_station_name         174377 non-null object\n",
      "start_station_latitude     174572 non-null float64\n",
      "start_station_longitude    174572 non-null float64\n",
      "end_station_id             174572 non-null object\n",
      "end_station_name           174377 non-null object\n",
      "end_station_latitude       174572 non-null float64\n",
      "end_station_longitude      174572 non-null float64\n",
      "bike_id                    174572 non-null object\n",
      "user_type                  174572 non-null category\n",
      "member_birth_year          174572 non-null int64\n",
      "member_gender              174572 non-null category\n",
      "bike_share_for_all_trip    174572 non-null object\n",
      "start_month_num            174572 non-null int64\n",
      "start_month_cal            174572 non-null object\n",
      "start_date                 174572 non-null object\n",
      "start_hourofday            174572 non-null object\n",
      "start_dayofweek            0 non-null category\n",
      "start_month                0 non-null category\n",
      "duration_minute            174572 non-null float64\n",
      "start_hour                 174572 non-null int64\n",
      "period_day                 174572 non-null category\n",
      "age                        174572 non-null int64\n",
      "dtypes: category(5), datetime64[ns](1), float64(5), int64(5), object(10)\n",
      "memory usage: 30.1+ MB\n"
     ]
    }
   ],
   "source": [
    "# visual review of the data uncovers an outlier in age with a user above 100. Since that is most likely unsual, lets filter in order to see distribution better\n",
    "\n",
    "df_clean_3 = df_clean.query('age <= 70')\n",
    "\n",
    "df_clean_3['member_birth_year'] = df_clean_3['member_birth_year'].astype('int')\n",
    "df_clean_3['age'] = df_clean_3['age'].astype('int')\n",
    "df_clean_3.info(null_counts=True)"
   ]
  },
  {
   "cell_type": "code",
   "execution_count": 81,
   "metadata": {},
   "outputs": [
    {
     "data": {
      "text/html": [
       "<div>\n",
       "<style scoped>\n",
       "    .dataframe tbody tr th:only-of-type {\n",
       "        vertical-align: middle;\n",
       "    }\n",
       "\n",
       "    .dataframe tbody tr th {\n",
       "        vertical-align: top;\n",
       "    }\n",
       "\n",
       "    .dataframe thead th {\n",
       "        text-align: right;\n",
       "    }\n",
       "</style>\n",
       "<table border=\"1\" class=\"dataframe\">\n",
       "  <thead>\n",
       "    <tr style=\"text-align: right;\">\n",
       "      <th></th>\n",
       "      <th>duration_sec</th>\n",
       "      <th>start_station_latitude</th>\n",
       "      <th>start_station_longitude</th>\n",
       "      <th>end_station_latitude</th>\n",
       "      <th>end_station_longitude</th>\n",
       "      <th>member_birth_year</th>\n",
       "      <th>start_month_num</th>\n",
       "      <th>duration_minute</th>\n",
       "      <th>start_hour</th>\n",
       "      <th>age</th>\n",
       "    </tr>\n",
       "  </thead>\n",
       "  <tbody>\n",
       "    <tr>\n",
       "      <th>count</th>\n",
       "      <td>174572.000000</td>\n",
       "      <td>174572.000000</td>\n",
       "      <td>174572.000000</td>\n",
       "      <td>174572.000000</td>\n",
       "      <td>174572.000000</td>\n",
       "      <td>174572.000000</td>\n",
       "      <td>174572.0</td>\n",
       "      <td>174572.000000</td>\n",
       "      <td>174572.000000</td>\n",
       "      <td>174572.000000</td>\n",
       "    </tr>\n",
       "    <tr>\n",
       "      <th>mean</th>\n",
       "      <td>704.469039</td>\n",
       "      <td>37.770789</td>\n",
       "      <td>-122.351278</td>\n",
       "      <td>37.770984</td>\n",
       "      <td>-122.350853</td>\n",
       "      <td>1984.964261</td>\n",
       "      <td>2.0</td>\n",
       "      <td>11.741151</td>\n",
       "      <td>13.458390</td>\n",
       "      <td>34.035739</td>\n",
       "    </tr>\n",
       "    <tr>\n",
       "      <th>std</th>\n",
       "      <td>1643.615498</td>\n",
       "      <td>0.101116</td>\n",
       "      <td>0.118494</td>\n",
       "      <td>0.101024</td>\n",
       "      <td>0.118058</td>\n",
       "      <td>9.712795</td>\n",
       "      <td>0.0</td>\n",
       "      <td>27.393592</td>\n",
       "      <td>4.735103</td>\n",
       "      <td>9.712795</td>\n",
       "    </tr>\n",
       "    <tr>\n",
       "      <th>min</th>\n",
       "      <td>61.000000</td>\n",
       "      <td>37.317298</td>\n",
       "      <td>-122.453704</td>\n",
       "      <td>37.317298</td>\n",
       "      <td>-122.453704</td>\n",
       "      <td>1949.000000</td>\n",
       "      <td>2.0</td>\n",
       "      <td>1.016667</td>\n",
       "      <td>0.000000</td>\n",
       "      <td>18.000000</td>\n",
       "    </tr>\n",
       "    <tr>\n",
       "      <th>25%</th>\n",
       "      <td>323.000000</td>\n",
       "      <td>37.770407</td>\n",
       "      <td>-122.411901</td>\n",
       "      <td>37.770407</td>\n",
       "      <td>-122.411647</td>\n",
       "      <td>1980.000000</td>\n",
       "      <td>2.0</td>\n",
       "      <td>5.383333</td>\n",
       "      <td>9.000000</td>\n",
       "      <td>27.000000</td>\n",
       "    </tr>\n",
       "    <tr>\n",
       "      <th>50%</th>\n",
       "      <td>511.000000</td>\n",
       "      <td>37.780760</td>\n",
       "      <td>-122.398279</td>\n",
       "      <td>37.781010</td>\n",
       "      <td>-122.397405</td>\n",
       "      <td>1987.000000</td>\n",
       "      <td>2.0</td>\n",
       "      <td>8.516667</td>\n",
       "      <td>14.000000</td>\n",
       "      <td>32.000000</td>\n",
       "    </tr>\n",
       "    <tr>\n",
       "      <th>75%</th>\n",
       "      <td>789.000000</td>\n",
       "      <td>37.797320</td>\n",
       "      <td>-122.282497</td>\n",
       "      <td>37.797673</td>\n",
       "      <td>-122.285171</td>\n",
       "      <td>1992.000000</td>\n",
       "      <td>2.0</td>\n",
       "      <td>13.150000</td>\n",
       "      <td>17.000000</td>\n",
       "      <td>39.000000</td>\n",
       "    </tr>\n",
       "    <tr>\n",
       "      <th>max</th>\n",
       "      <td>84548.000000</td>\n",
       "      <td>37.880222</td>\n",
       "      <td>-121.874119</td>\n",
       "      <td>37.880222</td>\n",
       "      <td>-121.874119</td>\n",
       "      <td>2001.000000</td>\n",
       "      <td>2.0</td>\n",
       "      <td>1409.133333</td>\n",
       "      <td>23.000000</td>\n",
       "      <td>70.000000</td>\n",
       "    </tr>\n",
       "  </tbody>\n",
       "</table>\n",
       "</div>"
      ],
      "text/plain": [
       "        duration_sec  start_station_latitude  start_station_longitude  \\\n",
       "count  174572.000000           174572.000000            174572.000000   \n",
       "mean      704.469039               37.770789              -122.351278   \n",
       "std      1643.615498                0.101116                 0.118494   \n",
       "min        61.000000               37.317298              -122.453704   \n",
       "25%       323.000000               37.770407              -122.411901   \n",
       "50%       511.000000               37.780760              -122.398279   \n",
       "75%       789.000000               37.797320              -122.282497   \n",
       "max     84548.000000               37.880222              -121.874119   \n",
       "\n",
       "       end_station_latitude  end_station_longitude  member_birth_year  \\\n",
       "count         174572.000000          174572.000000      174572.000000   \n",
       "mean              37.770984            -122.350853        1984.964261   \n",
       "std                0.101024               0.118058           9.712795   \n",
       "min               37.317298            -122.453704        1949.000000   \n",
       "25%               37.770407            -122.411647        1980.000000   \n",
       "50%               37.781010            -122.397405        1987.000000   \n",
       "75%               37.797673            -122.285171        1992.000000   \n",
       "max               37.880222            -121.874119        2001.000000   \n",
       "\n",
       "       start_month_num  duration_minute     start_hour            age  \n",
       "count         174572.0    174572.000000  174572.000000  174572.000000  \n",
       "mean               2.0        11.741151      13.458390      34.035739  \n",
       "std                0.0        27.393592       4.735103       9.712795  \n",
       "min                2.0         1.016667       0.000000      18.000000  \n",
       "25%                2.0         5.383333       9.000000      27.000000  \n",
       "50%                2.0         8.516667      14.000000      32.000000  \n",
       "75%                2.0        13.150000      17.000000      39.000000  \n",
       "max                2.0      1409.133333      23.000000      70.000000  "
      ]
     },
     "execution_count": 81,
     "metadata": {},
     "output_type": "execute_result"
    }
   ],
   "source": [
    "df_clean_3.describe()"
   ]
  },
  {
   "cell_type": "code",
   "execution_count": 41,
   "metadata": {},
   "outputs": [
    {
     "data": {
      "image/png": "[encoded data removed]",
      "text/plain": [
       "<Figure size 576x432 with 1 Axes>"
      ]
     },
     "metadata": {},
     "output_type": "display_data"
    }
   ],
   "source": [
    "# re-plot of filtered df with age data under 70\n",
    "sb.boxplot(data=df_clean_3, x='user_type', y='age', color=base_color);\n",
    "plt.xlabel('User Type');\n",
    "plt.ylabel('Ages of users');\n",
    "plt.title('Age Distribution by subscriber type')"
   ]
  },
  {
   "cell_type": "markdown",
   "metadata": {},
   "source": [
    "> **Answer**: his data shows that most users above the average age are indeed customers, using the service more sparingly. "
   ]
  },
  {
   "cell_type": "markdown",
   "metadata": {},
   "source": [
    "> **Question**: Does age influence ridership by period of day vs majority of users?\n",
    "> Using range based on 75% of ages falling below 40 and those above that mark\n",
    "> Age > 41 vs Age <= 40 "
   ]
  },
  {
   "cell_type": "code",
   "execution_count": 42,
   "metadata": {},
   "outputs": [],
   "source": [
    "# age range \n",
    "df_median_age = df_clean[df_clean.age<=40]\n",
    "df_above_40 = df_clean[df_clean.age>= 41]"
   ]
  },
  {
   "cell_type": "code",
   "execution_count": 47,
   "metadata": {},
   "outputs": [
    {
     "data": {
      "text/plain": [
       "Text(0.5, 1.0, 'Age Distribution in Users Aged below 40')"
      ]
     },
     "execution_count": 47,
     "metadata": {},
     "output_type": "execute_result"
    },
    {
     "data": {
      "image/png": "[encoded data removed]",
      "text/plain": [
       "<Figure size 576x720 with 2 Axes>"
      ]
     },
     "metadata": {},
     "output_type": "display_data"
    }
   ],
   "source": [
    "# violin plot\n",
    "\n",
    "plt.figure(figsize=(8,10))\n",
    "base_color = sb.color_palette()[0]\n",
    "ax = plt.subplot(211)\n",
    "sb.violinplot(data=df_above_40, y='period_day', x='age', inner='quartile', color=base_color)\n",
    "plt.xlabel('Age (Users > 40 years old)')\n",
    "plt.ylabel('Period of Day')\n",
    "plt.title('Age Distribution in Users Aged above 40')\n",
    "\n",
    "\n",
    "\n",
    "ax = plt.subplot(212)\n",
    "sb.violinplot(data=df_median_age, y='period_day', x='age', inner='quartile', color=base_color)\n",
    "plt.xlabel('Age (Users < 40 years old )')\n",
    "plt.ylabel('Period of Day')\n",
    "plt.title('Age Distribution in Users Aged below 40')\n"
   ]
  },
  {
   "cell_type": "markdown",
   "metadata": {},
   "source": [
    "> **Answer**: Interesting to see that users above the median age of 39 tend to use bikes earlier in morning or afternoon. \n"
   ]
  },
  {
   "cell_type": "markdown",
   "metadata": {},
   "source": [
    "### Distributions of data and features of interest\n",
    "\n",
    "> The birthdate was converted into an age, making it easier to see the ages of users by subscription/customer. There was an outlier in the age, which skewed the plot so it was necessary to make a log transformation. \n",
    "\n",
    "> Overall the data seemed normally distributed for duration of trip as most centered around under 20 minutes.\n",
    "\n",
    "> Interesting to observe positive correlation between period of day and duration of trip."
   ]
  },
  {
   "cell_type": "code",
   "execution_count": 45,
   "metadata": {},
   "outputs": [
    {
     "data": {
      "image/png": "[encoded data removed]",
      "text/plain": [
       "<Figure size 360x360 with 6 Axes>"
      ]
     },
     "metadata": {},
     "output_type": "display_data"
    }
   ],
   "source": [
    "# pairgrid\n",
    "\n",
    "samples = np.random.choice(df_clean.shape[0], 500, replace = False)\n",
    "df_clean_samp = df_clean.loc[samples,:]\n",
    "\n",
    "g = sb.PairGrid(data = df_clean_samp, vars = numeric_vars)\n",
    "g = g.map_diag(plt.hist, bins = 10)\n",
    "g.map_offdiag(plt.scatter)\n",
    "\n",
    "g.fig.suptitle('Correlation between Age and Duration');"
   ]
  },
  {
   "cell_type": "code",
   "execution_count": 46,
   "metadata": {},
   "outputs": [
    {
     "data": {
      "image/png": "[encoded data removed]",
      "text/plain": [
       "<Figure size 576x360 with 2 Axes>"
      ]
     },
     "metadata": {},
     "output_type": "display_data"
    }
   ],
   "source": [
    "# heatmap\n",
    "\n",
    "plt.figure(figsize = [8, 5])\n",
    "sb.heatmap(df_clean[numeric_vars].corr(), annot = True, fmt = '.3f',\n",
    "           cmap = 'vlag_r', center = 0)\n",
    "plt.title('Correlation of Age and Duration');"
   ]
  },
  {
   "cell_type": "markdown",
   "metadata": {},
   "source": [
    "> **Answer**:  User age is indeed negatively correlated with length of trip. \n",
    "\n",
    "> Possibly due to 75% of users falling in the 30 - 40 age bracket "
   ]
  },
  {
   "cell_type": "markdown",
   "metadata": {},
   "source": [
    "## Multivariate Exploration\n",
    "\n"
   ]
  },
  {
   "cell_type": "markdown",
   "metadata": {},
   "source": [
    "> **Question**:  Are customers utilizing bikes for longer periods of time vs. subscribers?"
   ]
  },
  {
   "cell_type": "code",
   "execution_count": 75,
   "metadata": {},
   "outputs": [
    {
     "data": {
      "image/png": "[encoded data removed]",
      "text/plain": [
       "<Figure size 576x432 with 1 Axes>"
      ]
     },
     "metadata": {},
     "output_type": "display_data"
    }
   ],
   "source": [
    "# pointplot\n",
    "\n",
    "sb.pointplot(data=df_clean, x='period_day', y='duration_minute', hue='user_type', palette = 'Blues', dodge=0.3, linestyles=\"\");\n",
    "plt.title('User Types by Period of Day')\n",
    "plt.xlabel('Time of Day');\n",
    "plt.ylabel('Avg. Trip Duration in Minutes')\n",
    "plt.show();"
   ]
  },
  {
   "cell_type": "markdown",
   "metadata": {},
   "source": [
    "> **Answer**:  The graph above shows that customers tend to have longer rides in the afternoon. \n",
    "\n",
    "> Possibly due to tourism, or maybe being used as a one off alternative mode of transportation. \n",
    "\n",
    "> Subscribers tend to take quick trips at all times of day which makes sense as to why they are subscribers."
   ]
  },
  {
   "cell_type": "markdown",
   "metadata": {},
   "source": [
    "### Overall Observations of relationships between features of interest:  \n",
    "\n",
    "> Seeing 89.2% of riders were subscribers was interesting, so it made me curious to know if perhaps they used it for longer timespans. While the average ride was short at 11.74 minutes, customers who were not subscribers took rides over 20 minutes.\n",
    "\n",
    "> I would have thought that subscribers used the bikes for longer periods, but the visuals indicate that its more of a consistently short span and thus maybe being used for getting back and forth to daily activities.\n",
    "\n",
    "### Were there any interesting or surprising interactions between features?\n",
    "\n",
    "> When evaluating how age factored into the duration of trips, there was a negative correlation between ages above the median and duration length. So looking a bit further, you can see that those same ages are not subscribers. Could be one off rentals, tourists etc.\n",
    "\n",
    "> Also, male and females peaked in ridership during the same hour of day which was 17:00 despite males makeup 71% of all users.\n",
    "\n",
    "> Regardless of age, most users rode during the morning and afternoon.\n",
    "\n"
   ]
  },
  {
   "cell_type": "markdown",
   "metadata": {},
   "source": [
    "## Conclusions\n",
    "> Overall, usership seemed pretty steady as far as time of use and hours of use. There were no surprises in the lack of correlation in age and longer rides for example. When looking at time of day, it made sense that users dropped at night for a number of reasons but visibility and safety could also play a role. \n",
    "\n",
    "> Exploration started with the basics to see the shape of the data, the makeup of the users, what information was available and from there adjusting or adding columns for clarity. This allowed for digging further to answer secondary questions about the users, their ages, how long they rode, and the time of day. Y \n"
   ]
  }
 ],
 "metadata": {
  "kernelspec": {
   "display_name": "Python 3",
   "language": "python",
   "name": "python3"
  },
  "language_info": {
   "codemirror_mode": {
    "name": "ipython",
    "version": 3
   },
   "file_extension": ".py",
   "mimetype": "text/x-python",
   "name": "python",
   "nbconvert_exporter": "python",
   "pygments_lexer": "ipython3",
   "version": "3.6.3"
  }
 },
 "nbformat": 4,
 "nbformat_minor": 2
}
